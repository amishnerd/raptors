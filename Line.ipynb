{
 "cells": [
  {
   "cell_type": "code",
   "execution_count": 93,
   "metadata": {},
   "outputs": [],
   "source": [
    "import pandas as pd\n",
    "import os\n",
    "import numpy as np\n",
    "from config import apikey\n",
    "import gmaps\n",
    "import matplotlib.pyplot as plt"
   ]
  },
  {
   "cell_type": "code",
   "execution_count": 94,
   "metadata": {},
   "outputs": [],
   "source": [
    "bcross_df = pd.read_csv('Border_Crossing_Entry_Data.csv')\n",
    "overtime = bcross_df.drop([\"Port Code\",\"Border\",\"Location\",\"State\"], axis=1)"
   ]
  },
  {
   "cell_type": "code",
   "execution_count": 95,
   "metadata": {},
   "outputs": [
    {
     "data": {
      "text/html": [
       "<div>\n",
       "<style scoped>\n",
       "    .dataframe tbody tr th:only-of-type {\n",
       "        vertical-align: middle;\n",
       "    }\n",
       "\n",
       "    .dataframe tbody tr th {\n",
       "        vertical-align: top;\n",
       "    }\n",
       "\n",
       "    .dataframe thead th {\n",
       "        text-align: right;\n",
       "    }\n",
       "</style>\n",
       "<table border=\"1\" class=\"dataframe\">\n",
       "  <thead>\n",
       "    <tr style=\"text-align: right;\">\n",
       "      <th></th>\n",
       "      <th>Port Name</th>\n",
       "      <th>Measure</th>\n",
       "      <th>Value</th>\n",
       "      <th>Day</th>\n",
       "    </tr>\n",
       "  </thead>\n",
       "  <tbody>\n",
       "    <tr>\n",
       "      <td>265</td>\n",
       "      <td>El Paso</td>\n",
       "      <td>Personal Vehicles</td>\n",
       "      <td>982585</td>\n",
       "      <td>03/01/2019</td>\n",
       "    </tr>\n",
       "    <tr>\n",
       "      <td>1128</td>\n",
       "      <td>El Paso</td>\n",
       "      <td>Personal Vehicles</td>\n",
       "      <td>928499</td>\n",
       "      <td>02/01/2019</td>\n",
       "    </tr>\n",
       "    <tr>\n",
       "      <td>1625</td>\n",
       "      <td>El Paso</td>\n",
       "      <td>Personal Vehicles</td>\n",
       "      <td>1020507</td>\n",
       "      <td>01/01/2019</td>\n",
       "    </tr>\n",
       "    <tr>\n",
       "      <td>2505</td>\n",
       "      <td>El Paso</td>\n",
       "      <td>Personal Vehicles</td>\n",
       "      <td>969171</td>\n",
       "      <td>12/01/2018</td>\n",
       "    </tr>\n",
       "    <tr>\n",
       "      <td>3243</td>\n",
       "      <td>El Paso</td>\n",
       "      <td>Personal Vehicles</td>\n",
       "      <td>954517</td>\n",
       "      <td>11/01/2018</td>\n",
       "    </tr>\n",
       "    <tr>\n",
       "      <td>...</td>\n",
       "      <td>...</td>\n",
       "      <td>...</td>\n",
       "      <td>...</td>\n",
       "      <td>...</td>\n",
       "    </tr>\n",
       "    <tr>\n",
       "      <td>341764</td>\n",
       "      <td>El Paso</td>\n",
       "      <td>Personal Vehicles</td>\n",
       "      <td>1309448</td>\n",
       "      <td>05/01/1996</td>\n",
       "    </tr>\n",
       "    <tr>\n",
       "      <td>342017</td>\n",
       "      <td>El Paso</td>\n",
       "      <td>Personal Vehicles</td>\n",
       "      <td>1281485</td>\n",
       "      <td>04/01/1996</td>\n",
       "    </tr>\n",
       "    <tr>\n",
       "      <td>344122</td>\n",
       "      <td>El Paso</td>\n",
       "      <td>Personal Vehicles</td>\n",
       "      <td>1337009</td>\n",
       "      <td>03/01/1996</td>\n",
       "    </tr>\n",
       "    <tr>\n",
       "      <td>344688</td>\n",
       "      <td>El Paso</td>\n",
       "      <td>Personal Vehicles</td>\n",
       "      <td>1242710</td>\n",
       "      <td>02/01/1996</td>\n",
       "    </tr>\n",
       "    <tr>\n",
       "      <td>346603</td>\n",
       "      <td>El Paso</td>\n",
       "      <td>Personal Vehicles</td>\n",
       "      <td>1248022</td>\n",
       "      <td>01/01/1996</td>\n",
       "    </tr>\n",
       "  </tbody>\n",
       "</table>\n",
       "<p>279 rows × 4 columns</p>\n",
       "</div>"
      ],
      "text/plain": [
       "       Port Name            Measure    Value         Day\n",
       "265      El Paso  Personal Vehicles   982585  03/01/2019\n",
       "1128     El Paso  Personal Vehicles   928499  02/01/2019\n",
       "1625     El Paso  Personal Vehicles  1020507  01/01/2019\n",
       "2505     El Paso  Personal Vehicles   969171  12/01/2018\n",
       "3243     El Paso  Personal Vehicles   954517  11/01/2018\n",
       "...          ...                ...      ...         ...\n",
       "341764   El Paso  Personal Vehicles  1309448  05/01/1996\n",
       "342017   El Paso  Personal Vehicles  1281485  04/01/1996\n",
       "344122   El Paso  Personal Vehicles  1337009  03/01/1996\n",
       "344688   El Paso  Personal Vehicles  1242710  02/01/1996\n",
       "346603   El Paso  Personal Vehicles  1248022  01/01/1996\n",
       "\n",
       "[279 rows x 4 columns]"
      ]
     },
     "execution_count": 95,
     "metadata": {},
     "output_type": "execute_result"
    }
   ],
   "source": [
    "port = 'El Paso'\n",
    "measure = 'Personal Vehicles'\n",
    "def cleantime(port, measure):\n",
    "    wdf = overtime[overtime['Port Name'] == port]\n",
    "    wdf = wdf[wdf['Measure'] == measure]\n",
    "    wdf['Month'] = wdf['Date'].str.split(\" \")\n",
    "    wdf.loc[:, 'Day'] = wdf.Month.map(lambda x: x[0])\n",
    "    del wdf['Date']\n",
    "    del wdf['Month']\n",
    "    return wdf\n",
    "cleantime(port, measure)\n",
    "elpaso = wdf\n",
    "elpaso"
   ]
  },
  {
   "cell_type": "code",
   "execution_count": 96,
   "metadata": {},
   "outputs": [
    {
     "data": {
      "image/png": "[encoded data removed]",
      "text/plain": [
       "<Figure size 432x288 with 1 Axes>"
      ]
     },
     "metadata": {
      "needs_background": "light"
     },
     "output_type": "display_data"
    }
   ],
   "source": [
    "ElP = plt.plot(elpaso['Day'], elpaso['Value'],label=\"Personal Vehicles\")\n",
    "\n"
   ]
  },
  {
   "cell_type": "code",
   "execution_count": 87,
   "metadata": {},
   "outputs": [
    {
     "data": {
      "text/html": [
       "<div>\n",
       "<style scoped>\n",
       "    .dataframe tbody tr th:only-of-type {\n",
       "        vertical-align: middle;\n",
       "    }\n",
       "\n",
       "    .dataframe tbody tr th {\n",
       "        vertical-align: top;\n",
       "    }\n",
       "\n",
       "    .dataframe thead th {\n",
       "        text-align: right;\n",
       "    }\n",
       "</style>\n",
       "<table border=\"1\" class=\"dataframe\">\n",
       "  <thead>\n",
       "    <tr style=\"text-align: right;\">\n",
       "      <th></th>\n",
       "      <th>Value</th>\n",
       "    </tr>\n",
       "  </thead>\n",
       "  <tbody>\n",
       "    <tr>\n",
       "      <td>count</td>\n",
       "      <td>2.790000e+02</td>\n",
       "    </tr>\n",
       "    <tr>\n",
       "      <td>mean</td>\n",
       "      <td>1.109286e+06</td>\n",
       "    </tr>\n",
       "    <tr>\n",
       "      <td>std</td>\n",
       "      <td>2.000959e+05</td>\n",
       "    </tr>\n",
       "    <tr>\n",
       "      <td>min</td>\n",
       "      <td>6.889210e+05</td>\n",
       "    </tr>\n",
       "    <tr>\n",
       "      <td>25%</td>\n",
       "      <td>9.688835e+05</td>\n",
       "    </tr>\n",
       "    <tr>\n",
       "      <td>50%</td>\n",
       "      <td>1.090273e+06</td>\n",
       "    </tr>\n",
       "    <tr>\n",
       "      <td>75%</td>\n",
       "      <td>1.267630e+06</td>\n",
       "    </tr>\n",
       "    <tr>\n",
       "      <td>max</td>\n",
       "      <td>1.695692e+06</td>\n",
       "    </tr>\n",
       "  </tbody>\n",
       "</table>\n",
       "</div>"
      ],
      "text/plain": [
       "              Value\n",
       "count  2.790000e+02\n",
       "mean   1.109286e+06\n",
       "std    2.000959e+05\n",
       "min    6.889210e+05\n",
       "25%    9.688835e+05\n",
       "50%    1.090273e+06\n",
       "75%    1.267630e+06\n",
       "max    1.695692e+06"
      ]
     },
     "execution_count": 87,
     "metadata": {},
     "output_type": "execute_result"
    }
   ],
   "source": []
  },
  {
   "cell_type": "code",
   "execution_count": null,
   "metadata": {},
   "outputs": [],
   "source": []
  }
 ],
 "metadata": {
  "kernelspec": {
   "display_name": "Python 3",
   "language": "python",
   "name": "python3"
  },
  "language_info": {
   "codemirror_mode": {
    "name": "ipython",
    "version": 3
   },
   "file_extension": ".py",
   "mimetype": "text/x-python",
   "name": "python",
   "nbconvert_exporter": "python",
   "pygments_lexer": "ipython3",
   "version": "3.7.4"
  }
 },
 "nbformat": 4,
 "nbformat_minor": 2
}
