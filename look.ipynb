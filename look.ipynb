{
 "cells": [
  {
   "cell_type": "code",
   "execution_count": 3,
   "metadata": {},
   "outputs": [],
   "source": [
    "import pandas as pd\n",
    "import os\n",
    "import numpy as np\n",
    "import matplotlib as mpl"
   ]
  },
  {
   "cell_type": "code",
   "execution_count": 4,
   "metadata": {},
   "outputs": [
    {
     "data": {
      "text/html": [
       "<div>\n",
       "<style scoped>\n",
       "    .dataframe tbody tr th:only-of-type {\n",
       "        vertical-align: middle;\n",
       "    }\n",
       "\n",
       "    .dataframe tbody tr th {\n",
       "        vertical-align: top;\n",
       "    }\n",
       "\n",
       "    .dataframe thead th {\n",
       "        text-align: right;\n",
       "    }\n",
       "</style>\n",
       "<table border=\"1\" class=\"dataframe\">\n",
       "  <thead>\n",
       "    <tr style=\"text-align: right;\">\n",
       "      <th></th>\n",
       "      <th>Port Name</th>\n",
       "      <th>State</th>\n",
       "      <th>Port Code</th>\n",
       "      <th>Border</th>\n",
       "      <th>Date</th>\n",
       "      <th>Measure</th>\n",
       "      <th>Value</th>\n",
       "      <th>Location</th>\n",
       "    </tr>\n",
       "  </thead>\n",
       "  <tbody>\n",
       "    <tr>\n",
       "      <th>0</th>\n",
       "      <td>Calexico East</td>\n",
       "      <td>California</td>\n",
       "      <td>2507</td>\n",
       "      <td>US-Mexico Border</td>\n",
       "      <td>03/01/2019 12:00:00 AM</td>\n",
       "      <td>Trucks</td>\n",
       "      <td>34447</td>\n",
       "      <td>POINT (-115.48433000000001 32.67524)</td>\n",
       "    </tr>\n",
       "    <tr>\n",
       "      <th>1</th>\n",
       "      <td>Van Buren</td>\n",
       "      <td>Maine</td>\n",
       "      <td>108</td>\n",
       "      <td>US-Canada Border</td>\n",
       "      <td>03/01/2019 12:00:00 AM</td>\n",
       "      <td>Rail Containers Full</td>\n",
       "      <td>428</td>\n",
       "      <td>POINT (-67.94271 47.16207)</td>\n",
       "    </tr>\n",
       "    <tr>\n",
       "      <th>2</th>\n",
       "      <td>Otay Mesa</td>\n",
       "      <td>California</td>\n",
       "      <td>2506</td>\n",
       "      <td>US-Mexico Border</td>\n",
       "      <td>03/01/2019 12:00:00 AM</td>\n",
       "      <td>Trucks</td>\n",
       "      <td>81217</td>\n",
       "      <td>POINT (-117.05333 32.57333)</td>\n",
       "    </tr>\n",
       "    <tr>\n",
       "      <th>3</th>\n",
       "      <td>Nogales</td>\n",
       "      <td>Arizona</td>\n",
       "      <td>2604</td>\n",
       "      <td>US-Mexico Border</td>\n",
       "      <td>03/01/2019 12:00:00 AM</td>\n",
       "      <td>Trains</td>\n",
       "      <td>62</td>\n",
       "      <td>POINT (-110.93361 31.340279999999996)</td>\n",
       "    </tr>\n",
       "    <tr>\n",
       "      <th>4</th>\n",
       "      <td>Trout River</td>\n",
       "      <td>New York</td>\n",
       "      <td>715</td>\n",
       "      <td>US-Canada Border</td>\n",
       "      <td>03/01/2019 12:00:00 AM</td>\n",
       "      <td>Personal Vehicle Passengers</td>\n",
       "      <td>16377</td>\n",
       "      <td>POINT (-73.44253 44.990010000000005)</td>\n",
       "    </tr>\n",
       "  </tbody>\n",
       "</table>\n",
       "</div>"
      ],
      "text/plain": [
       "       Port Name       State  Port Code            Border  \\\n",
       "0  Calexico East  California       2507  US-Mexico Border   \n",
       "1      Van Buren       Maine        108  US-Canada Border   \n",
       "2      Otay Mesa  California       2506  US-Mexico Border   \n",
       "3        Nogales     Arizona       2604  US-Mexico Border   \n",
       "4    Trout River    New York        715  US-Canada Border   \n",
       "\n",
       "                     Date                      Measure  Value  \\\n",
       "0  03/01/2019 12:00:00 AM                       Trucks  34447   \n",
       "1  03/01/2019 12:00:00 AM         Rail Containers Full    428   \n",
       "2  03/01/2019 12:00:00 AM                       Trucks  81217   \n",
       "3  03/01/2019 12:00:00 AM                       Trains     62   \n",
       "4  03/01/2019 12:00:00 AM  Personal Vehicle Passengers  16377   \n",
       "\n",
       "                                Location  \n",
       "0   POINT (-115.48433000000001 32.67524)  \n",
       "1             POINT (-67.94271 47.16207)  \n",
       "2            POINT (-117.05333 32.57333)  \n",
       "3  POINT (-110.93361 31.340279999999996)  \n",
       "4   POINT (-73.44253 44.990010000000005)  "
      ]
     },
     "execution_count": 4,
     "metadata": {},
     "output_type": "execute_result"
    }
   ],
   "source": [
    "bcross_df = pd.read_csv('Border_Crossing_Entry_Data.csv')\n",
    "bcross_df.head()"
   ]
  },
  {
   "cell_type": "code",
   "execution_count": 5,
   "metadata": {},
   "outputs": [
    {
     "data": {
      "text/html": [
       "<div>\n",
       "<style scoped>\n",
       "    .dataframe tbody tr th:only-of-type {\n",
       "        vertical-align: middle;\n",
       "    }\n",
       "\n",
       "    .dataframe tbody tr th {\n",
       "        vertical-align: top;\n",
       "    }\n",
       "\n",
       "    .dataframe thead th {\n",
       "        text-align: right;\n",
       "    }\n",
       "</style>\n",
       "<table border=\"1\" class=\"dataframe\">\n",
       "  <thead>\n",
       "    <tr style=\"text-align: right;\">\n",
       "      <th></th>\n",
       "      <th>Port Name</th>\n",
       "      <th>Measure</th>\n",
       "      <th>Value</th>\n",
       "    </tr>\n",
       "  </thead>\n",
       "  <tbody>\n",
       "    <tr>\n",
       "      <th>0</th>\n",
       "      <td>Calexico East</td>\n",
       "      <td>Trucks</td>\n",
       "      <td>34447</td>\n",
       "    </tr>\n",
       "    <tr>\n",
       "      <th>1</th>\n",
       "      <td>Van Buren</td>\n",
       "      <td>Rail Containers Full</td>\n",
       "      <td>428</td>\n",
       "    </tr>\n",
       "    <tr>\n",
       "      <th>2</th>\n",
       "      <td>Otay Mesa</td>\n",
       "      <td>Trucks</td>\n",
       "      <td>81217</td>\n",
       "    </tr>\n",
       "    <tr>\n",
       "      <th>3</th>\n",
       "      <td>Nogales</td>\n",
       "      <td>Trains</td>\n",
       "      <td>62</td>\n",
       "    </tr>\n",
       "    <tr>\n",
       "      <th>4</th>\n",
       "      <td>Trout River</td>\n",
       "      <td>Personal Vehicle Passengers</td>\n",
       "      <td>16377</td>\n",
       "    </tr>\n",
       "  </tbody>\n",
       "</table>\n",
       "</div>"
      ],
      "text/plain": [
       "       Port Name                      Measure  Value\n",
       "0  Calexico East                       Trucks  34447\n",
       "1      Van Buren         Rail Containers Full    428\n",
       "2      Otay Mesa                       Trucks  81217\n",
       "3        Nogales                       Trains     62\n",
       "4    Trout River  Personal Vehicle Passengers  16377"
      ]
     },
     "execution_count": 5,
     "metadata": {},
     "output_type": "execute_result"
    }
   ],
   "source": [
    "transport_information = bcross_df.drop([\"Port Code\",\"Border\",\"Location\",\"Date\",\"State\"], axis=1)\n",
    "transport_information.head()"
   ]
  },
  {
   "cell_type": "code",
   "execution_count": 6,
   "metadata": {},
   "outputs": [
    {
     "data": {
      "text/plain": [
       "Port Name       Measure                    \n",
       "Alcan           Bus Passengers                   259693\n",
       "                Buses                             11500\n",
       "                Pedestrians                        5738\n",
       "                Personal Vehicle Passengers     2503611\n",
       "                Personal Vehicles               1158347\n",
       "                Truck Containers Empty            18067\n",
       "                Truck Containers Full            128033\n",
       "                Trucks                           140100\n",
       "Alexandria Bay  Bus Passengers                  1526743\n",
       "                Buses                             45051\n",
       "                Pedestrians                       24385\n",
       "                Personal Vehicle Passengers    35763246\n",
       "                Personal Vehicles              15098846\n",
       "                Truck Containers Empty           323435\n",
       "                Truck Containers Full           4158215\n",
       "                Trucks                          5127928\n",
       "Algonac         Personal Vehicles                 63825\n",
       "Ambrose         Bus Passengers                      257\n",
       "                Buses                                11\n",
       "                Personal Vehicle Passengers      138314\n",
       "                Personal Vehicles                 65420\n",
       "                Truck Containers Empty             1462\n",
       "                Truck Containers Full               566\n",
       "                Trucks                             4127\n",
       "Anacortes       Bus Passengers                     7739\n",
       "                Buses                               306\n",
       "                Pedestrians                      100785\n",
       "                Personal Vehicle Passengers     1038946\n",
       "                Personal Vehicles                443687\n",
       "                Trucks                             5316\n",
       "                                                 ...   \n",
       "Westhope        Truck Containers Full             70630\n",
       "                Trucks                           144881\n",
       "Whitetail       Bus Passengers                      450\n",
       "                Buses                                14\n",
       "                Pedestrians                          35\n",
       "                Personal Vehicle Passengers      105817\n",
       "                Personal Vehicles                 50450\n",
       "                Truck Containers Empty              394\n",
       "                Truck Containers Full               654\n",
       "                Trucks                             2278\n",
       "Whitlash        Pedestrians                          70\n",
       "                Personal Vehicle Passengers       37164\n",
       "                Personal Vehicles                 16067\n",
       "                Truck Containers Empty             1733\n",
       "                Truck Containers Full              4991\n",
       "                Trucks                             7583\n",
       "Wildhorse       Bus Passengers                     2936\n",
       "                Buses                                97\n",
       "                Pedestrians                           3\n",
       "                Personal Vehicle Passengers      506670\n",
       "                Personal Vehicles                226158\n",
       "                Truck Containers Empty             2371\n",
       "                Truck Containers Full             25440\n",
       "                Trucks                            30328\n",
       "Willow Creek    Bus Passengers                       62\n",
       "                Buses                                 3\n",
       "                Pedestrians                           1\n",
       "                Personal Vehicle Passengers       94654\n",
       "                Personal Vehicles                 47261\n",
       "                Trucks                              194\n",
       "Name: Value, Length: 1041, dtype: int64"
      ]
     },
     "execution_count": 6,
     "metadata": {},
     "output_type": "execute_result"
    }
   ],
   "source": [
    "transport_information = transport_information.loc[transport_information['Value'] !=0]\n",
    "by_port_name = transport_information.groupby(['Port Name', 'Measure'])['Value'].sum()\n",
    "by_port_name"
   ]
  },
  {
   "cell_type": "code",
   "execution_count": 7,
   "metadata": {},
   "outputs": [
    {
     "data": {
      "text/plain": [
       "Port Name\n",
       "El Paso                  326400534\n",
       "San Ysidro               323842139\n",
       "Laredo                   177783450\n",
       "Detroit                  170090793\n",
       "Buffalo-Niagara Falls    168152722\n",
       "Name: Value, dtype: int64"
      ]
     },
     "execution_count": 7,
     "metadata": {},
     "output_type": "execute_result"
    }
   ],
   "source": [
    "nonhumans = [\"Trucks\", \"Buses\", \"Personal Vehicles\"]\n",
    "transport_info2 = transport_information[transport_information.Measure.isin(nonhumans)]\n",
    "transport_info_sorted = transport_info2.groupby(['Port Name'])['Value'].sum()\n",
    "transport_info_sorted2 = transport_info_sorted.sort_values(ascending=False)\n",
    "transport_info_sorted3 = transport_info_sorted2.nlargest(5)\n",
    "transport_info_sorted3"
   ]
  },
  {
   "cell_type": "code",
   "execution_count": 52,
   "metadata": {},
   "outputs": [
    {
     "data": {
      "text/plain": [
       "<matplotlib.axes._subplots.AxesSubplot at 0x248e19a3278>"
      ]
     },
     "execution_count": 52,
     "metadata": {},
     "output_type": "execute_result"
    },
    {
     "data": {
      "image/png": "[encoded data removed]",
      "text/plain": [
       "<Figure size 432x288 with 1 Axes>"
      ]
     },
     "metadata": {
      "needs_background": "light"
     },
     "output_type": "display_data"
    }
   ],
   "source": [
    "transport_info_sorted3.plot.bar()"
   ]
  },
  {
   "cell_type": "code",
   "execution_count": 53,
   "metadata": {},
   "outputs": [
    {
     "data": {
      "text/plain": [
       "<matplotlib.axes._subplots.AxesSubplot at 0x248e1a2e8d0>"
      ]
     },
     "execution_count": 53,
     "metadata": {},
     "output_type": "execute_result"
    },
    {
     "data": {
      "image/png": "[encoded data removed]",
      "text/plain": [
       "<Figure size 648x648 with 1 Axes>"
      ]
     },
     "metadata": {},
     "output_type": "display_data"
    }
   ],
   "source": [
    "transport_pie = transport_info2.drop(['Port Name'], axis=1)\n",
    "transport_pie2 = transport_pie.groupby(['Measure'])['Value'].sum()\n",
    "transport_pie2.plot.pie(explode=(0.3,.1,0) ,autopct='%1.1f%%',figsize=(9, 9))"
   ]
  },
  {
   "cell_type": "code",
   "execution_count": null,
   "metadata": {},
   "outputs": [],
   "source": []
  },
  {
   "cell_type": "code",
   "execution_count": null,
   "metadata": {},
   "outputs": [],
   "source": []
  },
  {
   "cell_type": "code",
   "execution_count": null,
   "metadata": {},
   "outputs": [],
   "source": []
  }
 ],
 "metadata": {
  "kernelspec": {
   "display_name": "Python 3",
   "language": "python",
   "name": "python3"
  },
  "language_info": {
   "codemirror_mode": {
    "name": "ipython",
    "version": 3
   },
   "file_extension": ".py",
   "mimetype": "text/x-python",
   "name": "python",
   "nbconvert_exporter": "python",
   "pygments_lexer": "ipython3",
   "version": "3.7.3"
  }
 },
 "nbformat": 4,
 "nbformat_minor": 2
}
