{
 "cells": [
  {
   "cell_type": "code",
   "execution_count": 1,
   "metadata": {},
   "outputs": [],
   "source": [
    "import pandas as pd\n",
    "import os\n",
    "import numpy as np\n",
    "import matplotlib.pyplot as plt"
   ]
  },
  {
   "cell_type": "code",
   "execution_count": 30,
   "metadata": {},
   "outputs": [
    {
     "data": {
      "text/html": [
       "<div>\n",
       "<style scoped>\n",
       "    .dataframe tbody tr th:only-of-type {\n",
       "        vertical-align: middle;\n",
       "    }\n",
       "\n",
       "    .dataframe tbody tr th {\n",
       "        vertical-align: top;\n",
       "    }\n",
       "\n",
       "    .dataframe thead th {\n",
       "        text-align: right;\n",
       "    }\n",
       "</style>\n",
       "<table border=\"1\" class=\"dataframe\">\n",
       "  <thead>\n",
       "    <tr style=\"text-align: right;\">\n",
       "      <th></th>\n",
       "      <th>Port Name</th>\n",
       "      <th>State</th>\n",
       "      <th>Port Code</th>\n",
       "      <th>Border</th>\n",
       "      <th>Date</th>\n",
       "      <th>Measure</th>\n",
       "      <th>Value</th>\n",
       "      <th>Location</th>\n",
       "    </tr>\n",
       "  </thead>\n",
       "  <tbody>\n",
       "    <tr>\n",
       "      <td>0</td>\n",
       "      <td>Calexico East</td>\n",
       "      <td>California</td>\n",
       "      <td>2507</td>\n",
       "      <td>US-Mexico Border</td>\n",
       "      <td>03/01/2019 12:00:00 AM</td>\n",
       "      <td>Trucks</td>\n",
       "      <td>34447</td>\n",
       "      <td>POINT (-115.48433000000001 32.67524)</td>\n",
       "    </tr>\n",
       "    <tr>\n",
       "      <td>1</td>\n",
       "      <td>Van Buren</td>\n",
       "      <td>Maine</td>\n",
       "      <td>108</td>\n",
       "      <td>US-Canada Border</td>\n",
       "      <td>03/01/2019 12:00:00 AM</td>\n",
       "      <td>Rail Containers Full</td>\n",
       "      <td>428</td>\n",
       "      <td>POINT (-67.94271 47.16207)</td>\n",
       "    </tr>\n",
       "    <tr>\n",
       "      <td>2</td>\n",
       "      <td>Otay Mesa</td>\n",
       "      <td>California</td>\n",
       "      <td>2506</td>\n",
       "      <td>US-Mexico Border</td>\n",
       "      <td>03/01/2019 12:00:00 AM</td>\n",
       "      <td>Trucks</td>\n",
       "      <td>81217</td>\n",
       "      <td>POINT (-117.05333 32.57333)</td>\n",
       "    </tr>\n",
       "    <tr>\n",
       "      <td>3</td>\n",
       "      <td>Nogales</td>\n",
       "      <td>Arizona</td>\n",
       "      <td>2604</td>\n",
       "      <td>US-Mexico Border</td>\n",
       "      <td>03/01/2019 12:00:00 AM</td>\n",
       "      <td>Trains</td>\n",
       "      <td>62</td>\n",
       "      <td>POINT (-110.93361 31.340279999999996)</td>\n",
       "    </tr>\n",
       "    <tr>\n",
       "      <td>4</td>\n",
       "      <td>Trout River</td>\n",
       "      <td>New York</td>\n",
       "      <td>715</td>\n",
       "      <td>US-Canada Border</td>\n",
       "      <td>03/01/2019 12:00:00 AM</td>\n",
       "      <td>Personal Vehicle Passengers</td>\n",
       "      <td>16377</td>\n",
       "      <td>POINT (-73.44253 44.990010000000005)</td>\n",
       "    </tr>\n",
       "  </tbody>\n",
       "</table>\n",
       "</div>"
      ],
      "text/plain": [
       "       Port Name       State  Port Code            Border  \\\n",
       "0  Calexico East  California       2507  US-Mexico Border   \n",
       "1      Van Buren       Maine        108  US-Canada Border   \n",
       "2      Otay Mesa  California       2506  US-Mexico Border   \n",
       "3        Nogales     Arizona       2604  US-Mexico Border   \n",
       "4    Trout River    New York        715  US-Canada Border   \n",
       "\n",
       "                     Date                      Measure  Value  \\\n",
       "0  03/01/2019 12:00:00 AM                       Trucks  34447   \n",
       "1  03/01/2019 12:00:00 AM         Rail Containers Full    428   \n",
       "2  03/01/2019 12:00:00 AM                       Trucks  81217   \n",
       "3  03/01/2019 12:00:00 AM                       Trains     62   \n",
       "4  03/01/2019 12:00:00 AM  Personal Vehicle Passengers  16377   \n",
       "\n",
       "                                Location  \n",
       "0   POINT (-115.48433000000001 32.67524)  \n",
       "1             POINT (-67.94271 47.16207)  \n",
       "2            POINT (-117.05333 32.57333)  \n",
       "3  POINT (-110.93361 31.340279999999996)  \n",
       "4   POINT (-73.44253 44.990010000000005)  "
      ]
     },
     "execution_count": 30,
     "metadata": {},
     "output_type": "execute_result"
    }
   ],
   "source": [
    "bcross_df = pd.read_csv('Border_Crossing_Entry_Data.csv')\n",
    "bcross_df.head()"
   ]
  },
  {
   "cell_type": "code",
   "execution_count": 7,
   "metadata": {},
   "outputs": [
    {
     "data": {
      "text/plain": [
       "Port_Name\n",
       "San Ysidro               322064384\n",
       "El Paso                  309490759\n",
       "Hidalgo                  144383953\n",
       "Buffalo-Niagara Falls    143218923\n",
       "Laredo                   139204618\n",
       "Name: Value, dtype: int64"
      ]
     },
     "execution_count": 7,
     "metadata": {},
     "output_type": "execute_result"
    }
   ],
   "source": [
    "df_PortSumPV = bcross_df.drop([\"Port Code\",\"Border\",\"Location\",\"State\", \"Date\"], axis=1).rename(columns = {\"Port Name\": \"Port_Name\"})\n",
    "dfPSFilterPV = df_PortSumPV[df_PortSumPV[\"Measure\"] == \"Personal Vehicles\"]\n",
    "\n",
    "dfPSF2PV = dfPSFilterPV.drop(['Measure'], axis =1)\n",
    "\n",
    "\n",
    "dfPSF3PV = dfPSF2PV.groupby(['Port_Name'])['Value'].sum()\n",
    "\n",
    "dfPSF3PV.sort_values( ascending=False)\n",
    "\n",
    "dfPSF4PV = dfPSF3PV.nlargest(5)\n",
    "\n",
    "\n",
    "dfPSF4PV"
   ]
  },
  {
   "cell_type": "code",
   "execution_count": 41,
   "metadata": {},
   "outputs": [
    {
     "data": {
      "image/png": "[encoded data removed]",
      "text/plain": [
       "<Figure size 432x288 with 1 Axes>"
      ]
     },
     "metadata": {
      "needs_background": "light"
     },
     "output_type": "display_data"
    }
   ],
   "source": [
    "dfPSF4PV.plot.bar()\n",
    "\n",
    "plt.title(\"Top 5 Ports w/ Highest number of Personal Vehicles\")\n",
    "plt.ylabel(\"Count by hundred million\")\n",
    "plt.xticks(rotation = 45)\n",
    "plt.savefig('Highest_PV_BarGrapg.png')"
   ]
  },
  {
   "cell_type": "code",
   "execution_count": 9,
   "metadata": {},
   "outputs": [
    {
     "data": {
      "text/plain": [
       "Port_Name\n",
       "Laredo                   37717555\n",
       "Detroit                  36749050\n",
       "Buffalo-Niagara Falls    24074301\n",
       "Port Huron               18193479\n",
       "Otay Mesa                17266466\n",
       "Name: Value, dtype: int64"
      ]
     },
     "execution_count": 9,
     "metadata": {},
     "output_type": "execute_result"
    }
   ],
   "source": [
    "df_PortSumT = bcross_df.drop([\"Port Code\",\"Border\",\"Location\",\"State\", \"Date\"], axis=1).rename(columns = {\"Port Name\": \"Port_Name\"})\n",
    "dfPSFilterT = df_PortSumT[df_PortSumT[\"Measure\"] == \"Trucks\"]\n",
    "\n",
    "dfPSF2T = dfPSFilterT.drop(['Measure'], axis =1)\n",
    "\n",
    "\n",
    "dfPSF3T = dfPSF2T.groupby(['Port_Name'])['Value'].sum()\n",
    "\n",
    "dfPSF3T.sort_values( ascending=False)\n",
    "\n",
    "dfPSF4T = dfPSF3T.nlargest(5)\n",
    "\n",
    "\n",
    "dfPSF4T"
   ]
  },
  {
   "cell_type": "code",
   "execution_count": 32,
   "metadata": {},
   "outputs": [
    {
     "data": {
      "text/plain": [
       "(array([0, 1, 2, 3, 4]), <a list of 5 Text xticklabel objects>)"
      ]
     },
     "execution_count": 32,
     "metadata": {},
     "output_type": "execute_result"
    },
    {
     "data": {
      "image/png": "[encoded data removed]",
      "text/plain": [
       "<Figure size 432x288 with 1 Axes>"
      ]
     },
     "metadata": {
      "needs_background": "light"
     },
     "output_type": "display_data"
    }
   ],
   "source": [
    "dfPSF4T.plot.bar()\n",
    "\n",
    "plt.title(\"Top 5 Ports w/ Highest number of Trucks\")\n",
    "plt.ylabel(\"Count Trucks by hundred million\")\n",
    "plt.xticks(rotation = 45)\n",
    "plt.savefig('Highest_T_BarGrapg.png')"
   ]
  },
  {
   "cell_type": "code",
   "execution_count": 11,
   "metadata": {},
   "outputs": [
    {
     "data": {
      "text/plain": [
       "Port_Name\n",
       "Laredo                   37717555\n",
       "Detroit                  36749050\n",
       "Buffalo-Niagara Falls    24074301\n",
       "Port Huron               18193479\n",
       "Otay Mesa                17266466\n",
       "Name: Value, dtype: int64"
      ]
     },
     "execution_count": 11,
     "metadata": {},
     "output_type": "execute_result"
    }
   ],
   "source": [
    "df_PortSumB = bcross_df.drop([\"Port Code\",\"Border\",\"Location\",\"State\", \"Date\"], axis=1).rename(columns = {\"Port Name\": \"Port_Name\"})\n",
    "dfPSFilterB = df_PortSumB[df_PortSumB[\"Measure\"] == \"Trucks\"]\n",
    "\n",
    "dfPSF2B = dfPSFilterB.drop(['Measure'], axis =1)\n",
    "\n",
    "\n",
    "dfPSF3B = dfPSF2B.groupby(['Port_Name'])['Value'].sum()\n",
    "\n",
    "dfPSF3B.sort_values( ascending=False)\n",
    "\n",
    "dfPSF4B = dfPSF3B.nlargest(5)\n",
    "\n",
    "\n",
    "dfPSF4B"
   ]
  },
  {
   "cell_type": "code",
   "execution_count": 33,
   "metadata": {},
   "outputs": [
    {
     "data": {
      "text/plain": [
       "(array([0, 1, 2, 3, 4]), <a list of 5 Text xticklabel objects>)"
      ]
     },
     "execution_count": 33,
     "metadata": {},
     "output_type": "execute_result"
    },
    {
     "data": {
      "image/png": "[encoded data removed]",
      "text/plain": [
       "<Figure size 432x288 with 1 Axes>"
      ]
     },
     "metadata": {
      "needs_background": "light"
     },
     "output_type": "display_data"
    }
   ],
   "source": [
    "dfPSF4B.plot.bar()\n",
    "\n",
    "plt.title(\"Top 5 Ports w/ Highest number of Buses\")\n",
    "plt.ylabel(\"Count Buses by hundred million\")\n",
    "plt.xticks(rotation = 45)\n",
    "plt.savefig('Highest_Buses_BarGrapg.png')"
   ]
  },
  {
   "cell_type": "code",
   "execution_count": null,
   "metadata": {},
   "outputs": [],
   "source": []
  }
 ],
 "metadata": {
  "kernelspec": {
   "display_name": "Python 3",
   "language": "python",
   "name": "python3"
  },
  "language_info": {
   "codemirror_mode": {
    "name": "ipython",
    "version": 3
   },
   "file_extension": ".py",
   "mimetype": "text/x-python",
   "name": "python",
   "nbconvert_exporter": "python",
   "pygments_lexer": "ipython3",
   "version": "3.7.4"
  }
 },
 "nbformat": 4,
 "nbformat_minor": 2
}
